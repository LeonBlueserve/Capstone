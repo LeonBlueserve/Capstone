{
    "cells": [
        {
            "cell_type": "code",
            "execution_count": 13,
            "metadata": {},
            "outputs": [
                {
                    "name": "stdout",
                    "output_type": "stream",
                    "text": "Solving environment: done\n\n## Package Plan ##\n\n  environment location: /opt/conda/envs/Python36\n\n  added / updated specs: \n    - geopy\n\n\nThe following packages will be downloaded:\n\n    package                    |            build\n    ---------------------------|-----------------\n    geographiclib-1.50         |             py_0          34 KB  conda-forge\n    ca-certificates-2019.9.11  |       hecc5488_0         144 KB  conda-forge\n    geopy-1.20.0               |             py_0          57 KB  conda-forge\n    certifi-2019.9.11          |           py36_0         147 KB  conda-forge\n    openssl-1.1.1d             |       h516909a_0         2.1 MB  conda-forge\n    ------------------------------------------------------------\n                                           Total:         2.5 MB\n\nThe following NEW packages will be INSTALLED:\n\n    geographiclib:   1.50-py_0         conda-forge\n    geopy:           1.20.0-py_0       conda-forge\n\nThe following packages will be UPDATED:\n\n    certifi:         2019.9.11-py36_0              --> 2019.9.11-py36_0     conda-forge\n\nThe following packages will be DOWNGRADED:\n\n    ca-certificates: 2019.10.16-0                  --> 2019.9.11-hecc5488_0 conda-forge\n    openssl:         1.1.1d-h7b6447c_3             --> 1.1.1d-h516909a_0    conda-forge\n\n\nDownloading and Extracting Packages\ngeographiclib-1.50   | 34 KB     | ##################################### | 100% \nca-certificates-2019 | 144 KB    | ##################################### | 100% \ngeopy-1.20.0         | 57 KB     | ##################################### | 100% \ncertifi-2019.9.11    | 147 KB    | ##################################### | 100% \nopenssl-1.1.1d       | 2.1 MB    | ##################################### | 100% \nPreparing transaction: done\nVerifying transaction: done\nExecuting transaction: done\nSolving environment: done\n\n## Package Plan ##\n\n  environment location: /opt/conda/envs/Python36\n\n  added / updated specs: \n    - folium=0.5.0\n\n\nThe following packages will be downloaded:\n\n    package                    |            build\n    ---------------------------|-----------------\n    folium-0.5.0               |             py_0          45 KB  conda-forge\n    vincent-0.4.4              |             py_1          28 KB  conda-forge\n    branca-0.3.1               |             py_0          25 KB  conda-forge\n    altair-3.2.0               |           py36_0         770 KB  conda-forge\n    ------------------------------------------------------------\n                                           Total:         868 KB\n\nThe following NEW packages will be INSTALLED:\n\n    altair:  3.2.0-py36_0 conda-forge\n    branca:  0.3.1-py_0   conda-forge\n    folium:  0.5.0-py_0   conda-forge\n    vincent: 0.4.4-py_1   conda-forge\n\n\nDownloading and Extracting Packages\nfolium-0.5.0         | 45 KB     | ##################################### | 100% \nvincent-0.4.4        | 28 KB     | ##################################### | 100% \nbranca-0.3.1         | 25 KB     | ##################################### | 100% \naltair-3.2.0         | 770 KB    | ##################################### | 100% \nPreparing transaction: done\nVerifying transaction: done\nExecuting transaction: done\nFolium installed\nLibraries imported.\n"
                }
            ],
            "source": "import requests # library to handle requests\nimport pandas as pd # library for data analsysis\nimport numpy as np # library to handle data in a vectorized manner\nimport random # library for random number generation\n\n!conda install -c conda-forge geopy --yes \nfrom geopy.geocoders import Nominatim # module to convert an address into latitude and longitude values\n\n# libraries for displaying images\nfrom IPython.display import Image \nfrom IPython.core.display import HTML \n    \n# tranforming json file into a pandas dataframe library\nfrom pandas.io.json import json_normalize\n\n!conda install -c conda-forge folium=0.5.0 --yes\nimport folium # plotting library\n\nprint('Folium installed')\nprint('Libraries imported.')\n"
        },
        {
            "cell_type": "markdown",
            "metadata": {},
            "source": "## Import migration background per neigbourhood in Amsterdam (raw data)"
        },
        {
            "cell_type": "code",
            "execution_count": 15,
            "metadata": {},
            "outputs": [
                {
                    "data": {
                        "text/html": "<div>\n<style scoped>\n    .dataframe tbody tr th:only-of-type {\n        vertical-align: middle;\n    }\n\n    .dataframe tbody tr th {\n        vertical-align: top;\n    }\n\n    .dataframe thead th {\n        text-align: right;\n    }\n</style>\n<table border=\"1\" class=\"dataframe\">\n  <thead>\n    <tr style=\"text-align: right;\">\n      <th></th>\n      <th>1.5a  Bevolking buurten naar migratieachtergrond, 1 januari 2019</th>\n      <th>Unnamed: 1</th>\n      <th>Unnamed: 2</th>\n      <th>Unnamed: 3</th>\n      <th>Unnamed: 4</th>\n      <th>Unnamed: 5</th>\n      <th>Unnamed: 6</th>\n      <th>Unnamed: 7</th>\n      <th>Unnamed: 8</th>\n      <th>Unnamed: 9</th>\n    </tr>\n  </thead>\n  <tbody>\n    <tr>\n      <th>1</th>\n      <td>buurt</td>\n      <td>Surinaams</td>\n      <td>Antilliaans</td>\n      <td>Turks</td>\n      <td>Marokkaans</td>\n      <td>overig niet-westers</td>\n      <td>totaal niet-westers</td>\n      <td>westers</td>\n      <td>Nederlands</td>\n      <td>totaal</td>\n    </tr>\n    <tr>\n      <th>2</th>\n      <td>NaN</td>\n      <td>NaN</td>\n      <td>NaN</td>\n      <td>NaN</td>\n      <td>NaN</td>\n      <td>NaN</td>\n      <td>NaN</td>\n      <td>NaN</td>\n      <td>NaN</td>\n      <td>NaN</td>\n    </tr>\n    <tr>\n      <th>3</th>\n      <td>A00a Kop Zeedijk</td>\n      <td>25</td>\n      <td>8</td>\n      <td>11</td>\n      <td>3</td>\n      <td>132</td>\n      <td>179</td>\n      <td>334</td>\n      <td>522</td>\n      <td>1035</td>\n    </tr>\n    <tr>\n      <th>4</th>\n      <td>A00b Oude Kerk e.o.</td>\n      <td>14</td>\n      <td>7</td>\n      <td>7</td>\n      <td>4</td>\n      <td>82</td>\n      <td>114</td>\n      <td>247</td>\n      <td>343</td>\n      <td>704</td>\n    </tr>\n    <tr>\n      <th>5</th>\n      <td>A00c Burgwallen Oost</td>\n      <td>32</td>\n      <td>18</td>\n      <td>14</td>\n      <td>17</td>\n      <td>213</td>\n      <td>294</td>\n      <td>513</td>\n      <td>766</td>\n      <td>1573</td>\n    </tr>\n    <tr>\n      <th>6</th>\n      <td>A00d Nes e.o.</td>\n      <td>2</td>\n      <td>2</td>\n      <td>3</td>\n      <td>1</td>\n      <td>28</td>\n      <td>36</td>\n      <td>122</td>\n      <td>194</td>\n      <td>352</td>\n    </tr>\n    <tr>\n      <th>7</th>\n      <td>A00e BG-terrein e.o.</td>\n      <td>12</td>\n      <td>5</td>\n      <td>5</td>\n      <td>10</td>\n      <td>65</td>\n      <td>97</td>\n      <td>173</td>\n      <td>359</td>\n      <td>629</td>\n    </tr>\n    <tr>\n      <th>8</th>\n      <td>A01a Stationsplein e.o.</td>\n      <td>-</td>\n      <td>-</td>\n      <td>-</td>\n      <td>-</td>\n      <td>-</td>\n      <td>-</td>\n      <td>2</td>\n      <td>-</td>\n      <td>2</td>\n    </tr>\n    <tr>\n      <th>9</th>\n      <td>A01b Hemelrijk</td>\n      <td>15</td>\n      <td>7</td>\n      <td>4</td>\n      <td>4</td>\n      <td>74</td>\n      <td>104</td>\n      <td>229</td>\n      <td>270</td>\n      <td>603</td>\n    </tr>\n  </tbody>\n</table>\n</div>",
                        "text/plain": "  1.5a  Bevolking buurten naar migratieachtergrond, 1 januari 2019 Unnamed: 1  \\\n1                                              buurt                Surinaams   \n2                                                NaN                      NaN   \n3                                   A00a Kop Zeedijk                       25   \n4                                A00b Oude Kerk e.o.                       14   \n5                               A00c Burgwallen Oost                       32   \n6                                      A00d Nes e.o.                        2   \n7                               A00e BG-terrein e.o.                       12   \n8                            A01a Stationsplein e.o.                        -   \n9                                     A01b Hemelrijk                       15   \n\n    Unnamed: 2 Unnamed: 3  Unnamed: 4            Unnamed: 5  \\\n1  Antilliaans      Turks  Marokkaans   overig niet-westers   \n2          NaN        NaN         NaN                   NaN   \n3            8         11           3                   132   \n4            7          7           4                    82   \n5           18         14          17                   213   \n6            2          3           1                    28   \n7            5          5          10                    65   \n8            -          -           -                     -   \n9            7          4           4                    74   \n\n            Unnamed: 6 Unnamed: 7  Unnamed: 8 Unnamed: 9  \n1  totaal niet-westers    westers  Nederlands     totaal  \n2                  NaN        NaN         NaN        NaN  \n3                  179        334         522       1035  \n4                  114        247         343        704  \n5                  294        513         766       1573  \n6                   36        122         194        352  \n7                   97        173         359        629  \n8                    -          2           -          2  \n9                  104        229         270        603  "
                    },
                    "execution_count": 15,
                    "metadata": {},
                    "output_type": "execute_result"
                }
            ],
            "source": "url = \"https://api.data.amsterdam.nl/dcatd/datasets/JAVeX44oiXm_5Q/purls/5\"\ndfcord = pd.read_excel(url)\ndfcord[1:10]"
        },
        {
            "cell_type": "code",
            "execution_count": 16,
            "metadata": {},
            "outputs": [
                {
                    "data": {
                        "text/plain": "(487, 10)"
                    },
                    "execution_count": 16,
                    "metadata": {},
                    "output_type": "execute_result"
                }
            ],
            "source": "dfcord.shape"
        },
        {
            "cell_type": "markdown",
            "metadata": {},
            "source": "## import employment per sector per neighbourhood in Amsterdam"
        },
        {
            "cell_type": "code",
            "execution_count": 17,
            "metadata": {},
            "outputs": [
                {
                    "data": {
                        "text/html": "<div>\n<style scoped>\n    .dataframe tbody tr th:only-of-type {\n        vertical-align: middle;\n    }\n\n    .dataframe tbody tr th {\n        vertical-align: top;\n    }\n\n    .dataframe thead th {\n        text-align: right;\n    }\n</style>\n<table border=\"1\" class=\"dataframe\">\n  <thead>\n    <tr style=\"text-align: right;\">\n      <th></th>\n      <th>2.3  Werkzame personen buurten naar hoofdfunctie, 1 januari 2018 1)</th>\n      <th>Unnamed: 1</th>\n      <th>Unnamed: 2</th>\n      <th>Unnamed: 3</th>\n      <th>Unnamed: 4</th>\n      <th>Unnamed: 5</th>\n      <th>Unnamed: 6</th>\n      <th>Unnamed: 7</th>\n    </tr>\n  </thead>\n  <tbody>\n    <tr>\n      <th>1</th>\n      <td>buurt</td>\n      <td>kantoren</td>\n      <td>winkels</td>\n      <td>voorzieningen</td>\n      <td>horeca</td>\n      <td>bedrijven</td>\n      <td>overig</td>\n      <td>totaal</td>\n    </tr>\n    <tr>\n      <th>2</th>\n      <td>NaN</td>\n      <td>NaN</td>\n      <td>NaN</td>\n      <td>NaN</td>\n      <td>NaN</td>\n      <td>NaN</td>\n      <td>NaN</td>\n      <td>NaN</td>\n    </tr>\n    <tr>\n      <th>3</th>\n      <td>A00a Kop Zeedijk</td>\n      <td>187</td>\n      <td>135</td>\n      <td>91</td>\n      <td>912</td>\n      <td>98</td>\n      <td>35</td>\n      <td>1458</td>\n    </tr>\n    <tr>\n      <th>4</th>\n      <td>A00b Oude Kerk e.o.</td>\n      <td>742</td>\n      <td>866</td>\n      <td>80</td>\n      <td>817</td>\n      <td>44</td>\n      <td>83</td>\n      <td>2632</td>\n    </tr>\n    <tr>\n      <th>5</th>\n      <td>A00c Burgwallen Oost</td>\n      <td>392</td>\n      <td>213</td>\n      <td>240</td>\n      <td>603</td>\n      <td>318</td>\n      <td>115</td>\n      <td>1881</td>\n    </tr>\n    <tr>\n      <th>6</th>\n      <td>A00d Nes e.o.</td>\n      <td>1058</td>\n      <td>391</td>\n      <td>100</td>\n      <td>536</td>\n      <td>126</td>\n      <td>*</td>\n      <td>2215</td>\n    </tr>\n    <tr>\n      <th>7</th>\n      <td>A00e BG-terrein e.o.</td>\n      <td>298</td>\n      <td>75</td>\n      <td>1341</td>\n      <td>636</td>\n      <td>75</td>\n      <td>8</td>\n      <td>2433</td>\n    </tr>\n    <tr>\n      <th>8</th>\n      <td>A01a Stationsplein e.o.</td>\n      <td>61</td>\n      <td>190</td>\n      <td>*</td>\n      <td>317</td>\n      <td>1703</td>\n      <td>*</td>\n      <td>2348</td>\n    </tr>\n    <tr>\n      <th>9</th>\n      <td>A01b Hemelrijk</td>\n      <td>331</td>\n      <td>106</td>\n      <td>158</td>\n      <td>364</td>\n      <td>159</td>\n      <td>11</td>\n      <td>1129</td>\n    </tr>\n  </tbody>\n</table>\n</div>",
                        "text/plain": "  2.3  Werkzame personen buurten naar hoofdfunctie, 1 januari 2018 1)  \\\n1                                              buurt                    \n2                                                NaN                    \n3                                   A00a Kop Zeedijk                    \n4                                A00b Oude Kerk e.o.                    \n5                               A00c Burgwallen Oost                    \n6                                      A00d Nes e.o.                    \n7                               A00e BG-terrein e.o.                    \n8                            A01a Stationsplein e.o.                    \n9                                     A01b Hemelrijk                    \n\n  Unnamed: 1 Unnamed: 2     Unnamed: 3 Unnamed: 4 Unnamed: 5 Unnamed: 6  \\\n1   kantoren    winkels  voorzieningen     horeca  bedrijven     overig   \n2        NaN        NaN            NaN        NaN        NaN        NaN   \n3        187        135             91        912         98         35   \n4        742        866             80        817         44         83   \n5        392        213            240        603        318        115   \n6       1058        391            100        536        126          *   \n7        298         75           1341        636         75          8   \n8         61        190              *        317       1703          *   \n9        331        106            158        364        159         11   \n\n  Unnamed: 7  \n1     totaal  \n2        NaN  \n3       1458  \n4       2632  \n5       1881  \n6       2215  \n7       2433  \n8       2348  \n9       1129  "
                    },
                    "execution_count": 17,
                    "metadata": {},
                    "output_type": "execute_result"
                }
            ],
            "source": "url2 = \"https://api.data.amsterdam.nl/dcatd/datasets/-fotdSpwjmSK9Q/purls/3\" \ndfsectors = pd.read_excel(url2)\ndfsectors[1:10]"
        },
        {
            "cell_type": "code",
            "execution_count": 18,
            "metadata": {},
            "outputs": [
                {
                    "data": {
                        "text/plain": "(487, 8)"
                    },
                    "execution_count": 18,
                    "metadata": {},
                    "output_type": "execute_result"
                }
            ],
            "source": "dfsectors.shape"
        },
        {
            "cell_type": "markdown",
            "metadata": {},
            "source": "## Show Amsterdam"
        },
        {
            "cell_type": "code",
            "execution_count": 23,
            "metadata": {},
            "outputs": [
                {
                    "name": "stdout",
                    "output_type": "stream",
                    "text": "Your credentails:\n"
                }
            ],
            "source": "# The code was removed by Watson Studio for sharing."
        },
        {
            "cell_type": "code",
            "execution_count": 24,
            "metadata": {},
            "outputs": [],
            "source": "latitude = 52.379189\nlongitude =  4.899431\nvenues_map = folium.Map(location=[latitude, longitude], zoom_start=13)"
        },
        {
            "cell_type": "code",
            "execution_count": 25,
            "metadata": {},
            "outputs": [
                {
                    "data": {
                        "text/html": "<div style=\"width:100%;\"><div style=\"position:relative;width:100%;height:0;padding-bottom:60%;\"><iframe src=\"data:text/html;charset=utf-8;base64,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\" style=\"position:absolute;width:100%;height:100%;left:0;top:0;border:none !important;\" allowfullscreen webkitallowfullscreen mozallowfullscreen></iframe></div></div>",
                        "text/plain": "<folium.folium.Map at 0x7f9edf9b29b0>"
                    },
                    "execution_count": 25,
                    "metadata": {},
                    "output_type": "execute_result"
                }
            ],
            "source": "venues_map"
        },
        {
            "cell_type": "code",
            "execution_count": null,
            "metadata": {},
            "outputs": [],
            "source": ""
        }
    ],
    "metadata": {
        "kernelspec": {
            "display_name": "Python 3.6",
            "language": "python",
            "name": "python3"
        },
        "language_info": {
            "codemirror_mode": {
                "name": "ipython",
                "version": 3
            },
            "file_extension": ".py",
            "mimetype": "text/x-python",
            "name": "python",
            "nbconvert_exporter": "python",
            "pygments_lexer": "ipython3",
            "version": "3.6.8"
        }
    },
    "nbformat": 4,
    "nbformat_minor": 1
}